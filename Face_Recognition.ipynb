{
  "nbformat": 4,
  "nbformat_minor": 0,
  "metadata": {
    "colab": {
      "provenance": []
    },
    "kernelspec": {
      "name": "python3",
      "display_name": "Python 3"
    },
    "language_info": {
      "name": "python"
    }
  },
  "cells": [
    {
      "cell_type": "code",
      "execution_count": null,
      "metadata": {
        "id": "KaIOF9pQw0le"
      },
      "outputs": [],
      "source": [
        "import cv2\n",
        "import os\n",
        "import numpy as np\n",
        "import faceRecognition as fr\n",
        "import argparse as ap"
      ]
    },
    {
      "cell_type": "markdown",
      "source": [
        "Face Recognitions"
      ],
      "metadata": {
        "id": "PQRMYKG4xh2X"
      }
    },
    {
      "cell_type": "code",
      "source": [
        "\n",
        "def labels_for_training_data(directory,width,heigth):\n",
        "    faces = []\n",
        "    faceID = []\n",
        "\n",
        "    for path, subdirnames, filenames in os.walk(directory):\n",
        "        for filename in filenames:\n",
        "            if filename.startswith(\".\"):\n",
        "                print(\"Skipping System Files\")\n",
        "                continue\n",
        "            id=os.path.basename(path)\n",
        "            img_path=os.path.join(path, filename)\n",
        "            test_img=cv2.imread(img_path,0)\n",
        "            if test_img is None:\n",
        "                print(\"Image not loaded properly\")\n",
        "            else:\n",
        "                print(\"img_path: \", img_path)\n",
        "                print(\"id: \", id)\n",
        "                gray_img=cv2.resize(test_img,(width,heigth))\n",
        "                faces.append(gray_img)\n",
        "                faceID.append(int(id))\n",
        "\n",
        "    return faces, faceID"
      ],
      "metadata": {
        "id": "-JP3X_tzw5nN"
      },
      "execution_count": null,
      "outputs": []
    },
    {
      "cell_type": "code",
      "source": [
        "def train_classifierLBPH(faces, faceID):\n",
        "    face_recognizer=cv2.face.LBPHFaceRecognizer_create()\n",
        "    face_recognizer.train(faces, np.array(faceID))\n",
        "    return face_recognizer"
      ],
      "metadata": {
        "id": "-96kzl8cxC7z"
      },
      "execution_count": null,
      "outputs": []
    },
    {
      "cell_type": "code",
      "source": [
        "def train_classifierEigen(faces, faceID):\n",
        "    face_recognizer=cv2.face.EigenFaceRecognizer_create()\n",
        "    face_recognizer.train(faces, np.array(faceID))\n",
        "    return face_recognizer"
      ],
      "metadata": {
        "id": "3UTf1_ZQxINl"
      },
      "execution_count": null,
      "outputs": []
    },
    {
      "cell_type": "markdown",
      "source": [
        "Training"
      ],
      "metadata": {
        "id": "4EeXFaW6xl8l"
      }
    },
    {
      "cell_type": "code",
      "source": [
        "parser = ap.ArgumentParser()\n",
        "parser.add_argument('-w', '--width', help=\"width to resize\",default=100,type=int)\n",
        "parser.add_argument('-e', '--height', help=\"height to resize\",default=100,type=int)\n",
        "parser.add_argument('-a', '--algorithm', help=\"1-LBPH, 2-Eigenfaces\",default=1,type=int)\n",
        "args = vars(parser.parse_args())\n",
        "\n",
        "faces, faceID = fr.labels_for_training_data('Dataset/train',args[\"width\"],args[\"height\"])\n",
        "\n",
        "if args[\"algorithm\"]==1:\n",
        "    face_recognizer = fr.train_classifierLBPH(faces, faceID)\n",
        "elif args[\"algorithm\"]==2:\n",
        "    face_recognizer = fr.train_classifierEigen(faces, faceID)\n",
        "else:\n",
        "    print(\"Option not valid\")\n",
        "    exit(0)\n",
        "\n",
        "face_recognizer.save(\"trainingData.yml\")"
      ],
      "metadata": {
        "id": "91UY1swIxnlF"
      },
      "execution_count": null,
      "outputs": []
    },
    {
      "cell_type": "markdown",
      "source": [
        "Test"
      ],
      "metadata": {
        "id": "fXaK1yZox2Y3"
      }
    },
    {
      "cell_type": "code",
      "source": [
        "parser = ap.ArgumentParser()\n",
        "parser.add_argument('-i', \"--image\", help=\"Path to the test image\", required=True)\n",
        "parser.add_argument('-c', \"--classes\", help=\"Path to the classes\", required=True)\n",
        "parser.add_argument('-w', '--width', help=\"width to resize\",default=100,type=int)\n",
        "parser.add_argument('-e', '--height', help=\"height to resize\",default=100,type=int)\n",
        "parser.add_argument('-a', '--algorithm', help=\"1-LBPH, 2-Eigenfaces\",default=1,type=int)\n",
        "args = vars(parser.parse_args())\n",
        "\n",
        "test_img = cv2.imread(args[\"image\"],0)\n",
        "test_img=cv2.resize(test_img,(args[\"width\"],args[\"height\"]))\n",
        "if args[\"algorithm\"]==1:\n",
        "    face_recognizer = cv2.face.LBPHFaceRecognizer_create()\n",
        "elif args[\"algorithm\"]==2:\n",
        "    face_recognizer = cv2.face.EigenFaceRecognizer_create()\n",
        "else:\n",
        "    print(\"Error, not valid\")\n",
        "    exit(0)\n",
        "\n",
        "face_recognizer.read('trainingData.yml')\n",
        "name = {}\n",
        "file = open(args[\"classes\"], \"r\")\n",
        "for i,line in enumerate(file):\n",
        "    name[i+1]=line.strip()\n",
        "file.close()\n",
        "print(name)\n",
        "label, confidence = face_recognizer.predict(test_img)\n",
        "print(\"label: \", label)\n",
        "print(\"confidence: \", confidence)\n",
        "\n",
        "predicted_name = name[label]\n",
        "\n",
        "if confidence > 50:\n",
        "    predicted_name = \"unknown, \"\n",
        "    predicted_name += str(confidence)\n",
        "\n",
        "print(predicted_name)\n",
        "\n",
        "cv2.waitKey(0)\n",
        "cv2.destroyAllWindows()"
      ],
      "metadata": {
        "id": "b0q3CGyEx3_0"
      },
      "execution_count": null,
      "outputs": []
    },
    {
      "cell_type": "markdown",
      "source": [
        "https://github.com/pedrooct/opencv_LBPH_Eigenfaces_faceRecognition"
      ],
      "metadata": {
        "id": "fshnACIyyQpz"
      }
    }
  ]
}